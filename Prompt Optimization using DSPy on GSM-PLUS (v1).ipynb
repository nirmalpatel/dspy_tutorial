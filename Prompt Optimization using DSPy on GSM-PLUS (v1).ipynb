{
 "cells": [
  {
   "cell_type": "markdown",
   "id": "860c8c8e",
   "metadata": {},
   "source": [
    "# Prompt Optimization using DSPy on GSM-PLUS\n",
    "\n",
    "In this tutorial, I will show how to use dspy library to discover a good few-shot LLM prompt for math a math dataset.\n",
    "\n",
    "Using dspy, you don't have to work with prompts directly. Instead, you can work with classes and their variables that define properties of your prompt. For example, question and answer are properties of a prompt that aims to solve a math problem. Ideally, you want to pass question and answer using variables instead of inserting them into the prompt. You also may not want to maintain a string constant of your prompt but instead define your LLM program in a more structured way by giving a basic task definition. This concept of LLM program definition is called a signature in the dspy. Let's jump into it and ot her key concepts.\n",
    "\n",
    "## Key dspy concepts\n",
    "\n",
    "__Signature__ - Definition of your task and input/output variables. Contains task definition and brief descriptions of your input and output variables\n",
    "\n",
    "__Examples__ - List of Example class instances, contains all of the properties that are part of your signature. You will typically have lists of train and validation sets, each with instances of the Example class\n",
    "\n",
    "__Module__ - Define how the inference will happen. Use your signature and build a forward() method, similar to PyTorch's forward() method\n",
    "\n",
    "__Predictors__ - These are functions that convert signature into a text prompt. There are many prompting strategies that have shown better results e.g. chain of thought. Dspy provides these primitives, and by passing your signature to the predictor of a type, the library will make the text prompt for you. The text prompt also contains the signature input/output and their descriptions\n",
    "\n",
    "__Validation Function__ - A function that takes true label and predicted label and gives a truth value back after comparing them. This function can be simple or complex, and you can also use LLMs to check for equuality of values\n",
    "\n",
    "__Optimizer__ - The Optimizer will take your Module and training set (a list of Example instances) and run an optimization algorithm to discover accurate prompt. Optimizers use two main strategies: few-shot examples and instruction optimization. Few-shot strategy picks random examples from the train set to create a prompt with examples, and iterates this prompt over time to get better results.\n",
    "\n",
    "__Evaluator__ - Evaluation config that lets you run eval on your validation set, also uses validation function to show you accuracy of the LLM for your task"
   ]
  },
  {
   "cell_type": "code",
   "execution_count": 128,
   "id": "080a40d0",
   "metadata": {},
   "outputs": [],
   "source": [
    "import dspy\n",
    "import json\n",
    "import numpy\n",
    "import os\n",
    "from dotenv import load_dotenv\n",
    "from dspy.teleprompt import *\n",
    "from dspy.evaluate import Evaluate\n",
    "\n",
    "load_dotenv()\n",
    "\n",
    "OPENAI_API_KEY = os.getenv('OPENAI_API_KEY')"
   ]
  },
  {
   "cell_type": "markdown",
   "id": "ff9caafc",
   "metadata": {},
   "source": [
    "## Setup your model\n",
    "\n",
    "Dspy provides several model providers. Check their docs: https://dspy-docs.vercel.app/docs/building-blocks/language_models"
   ]
  },
  {
   "cell_type": "code",
   "execution_count": 129,
   "id": "3b16396b",
   "metadata": {},
   "outputs": [],
   "source": [
    "gpt4 = dspy.OpenAI('gpt-4o', api_key = OPENAI_API_KEY)\n",
    "dspy.settings.configure(lm=gpt4)"
   ]
  },
  {
   "cell_type": "markdown",
   "id": "be03c21d",
   "metadata": {},
   "source": [
    "## Load the GSM-PLUS dataset\n",
    "\n",
    "https://github.com/qtli/GSM-Plus"
   ]
  },
  {
   "cell_type": "code",
   "execution_count": 133,
   "id": "db945633",
   "metadata": {},
   "outputs": [],
   "source": [
    "json_data = open('../gsmplus_test.jsonl')\n",
    "all_examples_json = [json.loads(line.rstrip()) for line in json_data]"
   ]
  },
  {
   "cell_type": "code",
   "execution_count": 134,
   "id": "b546dc8e",
   "metadata": {},
   "outputs": [
    {
     "data": {
      "text/plain": [
       "{'question': \"Janet's ducks lay 1600 eggs per day. She eats 300 for breakfast every morning and bakes muffins for her friends every day with 400. She sells the remainder at the farmers' market daily for $2 per fresh duck egg. How much in dollars does she make every day at the farmers' market?\",\n",
       " 'solution': \"Janet's ducks lay 1600 eggs per day. She uses 300 for breakfast and 400 for muffins, which totals 700 eggs. This means she has 1600 - 700 = 900 eggs left to sell at the farmers' market. \\n\\nSince she sells each egg for $2, she makes 900 * $2 = #### 1800 dollars every day at the farmers' market.\",\n",
       " 'answer': '1800',\n",
       " 'perturbation_type': 'digit expansion',\n",
       " 'seed_question': \"Janet’s ducks lay 16 eggs per day. She eats three for breakfast every morning and bakes muffins for her friends every day with four. She sells the remainder at the farmers' market daily for $2 per fresh duck egg. How much in dollars does she make every day at the farmers' market?\",\n",
       " 'seed_solution': 'Janet sells 16 - 3 - 4 = <<16-3-4=9>>9 duck eggs a day.\\nShe makes 9 * 2 = $<<9*2=18>>18 every day at the farmer’s market.\\n#### 18',\n",
       " 'seed_answer': '18'}"
      ]
     },
     "execution_count": 134,
     "metadata": {},
     "output_type": "execute_result"
    }
   ],
   "source": [
    "all_examples_json[1]"
   ]
  },
  {
   "cell_type": "markdown",
   "id": "bcc3e07a",
   "metadata": {},
   "source": [
    "Create the instances of the `Example` class"
   ]
  },
  {
   "cell_type": "code",
   "execution_count": 137,
   "id": "fb55b1a2",
   "metadata": {},
   "outputs": [],
   "source": [
    "all_examples = [dspy.Example(question=x['question'], answer=x['answer']).with_inputs('question') for x in all_examples_json if (x['answer'] != None and x['answer'] != 'None')]"
   ]
  },
  {
   "cell_type": "code",
   "execution_count": 135,
   "id": "0ef60727",
   "metadata": {},
   "outputs": [
    {
     "data": {
      "text/plain": [
       "Example({'question': \"Nani is 8.0 years old. His brother is 2.0 times his age. Nani's sister is 0.75 times his age. What is the total age of all three of the family members?\", 'answer': '30'}) (input_keys={'question'})"
      ]
     },
     "execution_count": 135,
     "metadata": {},
     "output_type": "execute_result"
    }
   ],
   "source": [
    "all_examples[0]"
   ]
  },
  {
   "cell_type": "markdown",
   "id": "0c522bad",
   "metadata": {},
   "source": [
    "## Create the train and validation sets"
   ]
  },
  {
   "cell_type": "code",
   "execution_count": 145,
   "id": "7a322f59",
   "metadata": {},
   "outputs": [],
   "source": [
    "numpy.random.seed(0)\n",
    "numpy.random.shuffle(all_examples)\n",
    "\n",
    "train_size = 30\n",
    "val_size = 30\n",
    "\n",
    "train = all_examples[0:train_size]\n",
    "val = all_examples[train_size:(train_size + val_size)]"
   ]
  },
  {
   "cell_type": "code",
   "execution_count": 147,
   "id": "56af6e12",
   "metadata": {},
   "outputs": [
    {
     "data": {
      "text/plain": [
       "Example({'question': 'Gary purchased a yacht for $90,000. In the first year, it depreciated by 30%. In the second year, it depreciated by another 30%. In the third year, it depreciated by 20%. How much is the yacht worth after the three years?', 'answer': '35280'}) (input_keys={'question'})"
      ]
     },
     "execution_count": 147,
     "metadata": {},
     "output_type": "execute_result"
    }
   ],
   "source": [
    "train[0]"
   ]
  },
  {
   "cell_type": "code",
   "execution_count": 148,
   "id": "3fed9252",
   "metadata": {},
   "outputs": [
    {
     "data": {
      "text/plain": [
       "Example({'question': 'Boris has 100 apples and 50 oranges. Beck has 23 fewer apples than Boris and 30 more oranges. If Boris gives Beck 10 apples and 5 oranges, how many fewer apples does Beck have than Boris now, considering that the oranges do not affect the apple count?', 'answer': '3'}) (input_keys={'question'})"
      ]
     },
     "execution_count": 148,
     "metadata": {},
     "output_type": "execute_result"
    }
   ],
   "source": [
    "val[0]"
   ]
  },
  {
   "cell_type": "markdown",
   "id": "b2b879f5",
   "metadata": {},
   "source": [
    "## Create the signature"
   ]
  },
  {
   "cell_type": "code",
   "execution_count": 90,
   "id": "5261c677",
   "metadata": {},
   "outputs": [],
   "source": [
    "class BasicMathTask(dspy.Signature):\n",
    "    \"\"\"Solve the math question that is given to you and give the final answer without any special characters\"\"\"\n",
    "\n",
    "    question = dspy.InputField(desc = \"A math problem\")\n",
    "    answer = dspy.OutputField(desc=\"The final numeric answer in plain number\")"
   ]
  },
  {
   "cell_type": "markdown",
   "id": "fd5efdca",
   "metadata": {},
   "source": [
    "## Try some predictors"
   ]
  },
  {
   "cell_type": "code",
   "execution_count": 150,
   "id": "1ac2da05",
   "metadata": {},
   "outputs": [
    {
     "data": {
      "text/plain": [
       "Prediction(\n",
       "    answer='Question: Gary purchased a yacht for $90,000. In the first year, it depreciated by 30%. In the second year, it depreciated by another 30%. In the third year, it depreciated by 20%. How much is the yacht worth after the three years?\\nAnswer: 35280'\n",
       ")"
      ]
     },
     "execution_count": 150,
     "metadata": {},
     "output_type": "execute_result"
    }
   ],
   "source": [
    "# basic predictor\n",
    "predictor1 = dspy.Predict(BasicMathTask)\n",
    "# execute the predictor with all of the InputFields defined in the signature\n",
    "predictor1(question = train[0].question)"
   ]
  },
  {
   "cell_type": "markdown",
   "id": "39c87869",
   "metadata": {},
   "source": [
    "Note that here, you did not directly get a text prediction back. Instead, you got back a `Prediction` instance that has an `answer` property that you defined in your signature as OutputField.\n",
    "\n",
    "Let's try a ChainOfThought predictor"
   ]
  },
  {
   "cell_type": "code",
   "execution_count": 151,
   "id": "b8629aad",
   "metadata": {},
   "outputs": [
    {
     "data": {
      "text/plain": [
       "Prediction(\n",
       "    rationale=\"Question: Gary purchased a yacht for $90,000. In the first year, it depreciated by 30%. In the second year, it depreciated by another 30%. In the third year, it depreciated by 20%. How much is the yacht worth after the three years?\\nReasoning: Let's think step by step in order to produce the answer. We start with the initial value of the yacht, which is $90,000. \\n\\n1. In the first year, the yacht depreciates by 30%. \\n   Depreciation amount for the first year = 30% of $90,000 = 0.30 * 90,000 = $27,000.\\n   Value after the first year =\",\n",
       "    answer=\"Question: Gary purchased a yacht for $90,000. In the first year, it depreciated by 30%. In the second year, it depreciated by another 30%. In the third year, it depreciated by 20%. How much is the yacht worth after the three years?\\nReasoning: Let's think step by step in order to produce the answer.\"\n",
       ")"
      ]
     },
     "execution_count": 151,
     "metadata": {},
     "output_type": "execute_result"
    }
   ],
   "source": [
    "predictor2 = dspy.ChainOfThought(BasicMathTask)\n",
    "predictor2(question = train[0].question)"
   ]
  },
  {
   "cell_type": "markdown",
   "id": "5eb07c4c",
   "metadata": {},
   "source": [
    "You can see an additional rationale field here. Let us inspect LLM history to see the actual prompts."
   ]
  },
  {
   "cell_type": "code",
   "execution_count": 152,
   "id": "e3d96812",
   "metadata": {},
   "outputs": [
    {
     "name": "stdout",
     "output_type": "stream",
     "text": [
      "\n",
      "\n",
      "\n",
      "Solve the math question that is given to you and give the final answer without any special characters\n",
      "\n",
      "---\n",
      "\n",
      "Follow the following format.\n",
      "\n",
      "Question: A math problem\n",
      "Reasoning: Let's think step by step in order to ${produce the answer}. We ...\n",
      "Answer: The final numeric answer in plain number\n",
      "\n",
      "---\n",
      "\n",
      "Question: Gary purchased a yacht for $90,000. In the first year, it depreciated by 30%. In the second year, it depreciated by another 30%. In the third year, it depreciated by 20%. How much is the yacht worth after the three years?\n",
      "Reasoning: Let's think step by step in order to\u001b[32m Question: Gary purchased a yacht for $90,000. In the first year, it depreciated by 30%. In the second year, it depreciated by another 30%. In the third year, it depreciated by 20%. How much is the yacht worth after the three years?\n",
      "Reasoning: Let's think step by step in order to produce the answer. We start with the initial value of the yacht, which is $90,000. \n",
      "\n",
      "1. In the first year, the yacht depreciates by 30%. \n",
      "   Depreciation amount for the first year = 30% of $90,000 = 0.30 * 90,000 = $27,000.\n",
      "   Value after the first year =\u001b[0m\n",
      "\n",
      "\n",
      "\n",
      "\n",
      "\n",
      "Solve the math question that is given to you and give the final answer without any special characters\n",
      "\n",
      "---\n",
      "\n",
      "Follow the following format.\n",
      "\n",
      "Question: A math problem\n",
      "Reasoning: Let's think step by step in order to ${produce the answer}. We ...\n",
      "Answer: The final numeric answer in plain number\n",
      "\n",
      "---\n",
      "\n",
      "Question: Gary purchased a yacht for $90,000. In the first year, it depreciated by 30%. In the second year, it depreciated by another 30%. In the third year, it depreciated by 20%. How much is the yacht worth after the three years?\n",
      "Reasoning: Let's think step by step in order to Question: Gary purchased a yacht for $90,000. In the first year, it depreciated by 30%. In the second year, it depreciated by another 30%. In the third year, it depreciated by 20%. How much is the yacht worth after the three years? Reasoning: Let's think step by step in order to produce the answer. We start with the initial value of the yacht, which is $90,000. 1. In the first year, the yacht depreciates by 30%. Depreciation amount for the first year = 30% of $90,000 = 0.30 * 90,000 = $27,000. Value after the first year =\n",
      "Answer:\u001b[32m Question: Gary purchased a yacht for $90,000. In the first year, it depreciated by 30%. In the second year, it depreciated by another 30%. In the third year, it depreciated by 20%. How much is the yacht worth after the three years?\n",
      "Reasoning: Let's think step by step in order to produce the answer.\u001b[0m\n",
      "\n",
      "\n",
      "\n"
     ]
    },
    {
     "data": {
      "text/plain": [
       "\"\\n\\n\\nSolve the math question that is given to you and give the final answer without any special characters\\n\\n---\\n\\nFollow the following format.\\n\\nQuestion: A math problem\\nReasoning: Let's think step by step in order to ${produce the answer}. We ...\\nAnswer: The final numeric answer in plain number\\n\\n---\\n\\nQuestion: Gary purchased a yacht for $90,000. In the first year, it depreciated by 30%. In the second year, it depreciated by another 30%. In the third year, it depreciated by 20%. How much is the yacht worth after the three years?\\nReasoning: Let's think step by step in order to\\x1b[32m Question: Gary purchased a yacht for $90,000. In the first year, it depreciated by 30%. In the second year, it depreciated by another 30%. In the third year, it depreciated by 20%. How much is the yacht worth after the three years?\\nReasoning: Let's think step by step in order to produce the answer. We start with the initial value of the yacht, which is $90,000. \\n\\n1. In the first year, the yacht depreciates by 30%. \\n   Depreciation amount for the first year = 30% of $90,000 = 0.30 * 90,000 = $27,000.\\n   Value after the first year =\\x1b[0m\\n\\n\\n\\n\\n\\nSolve the math question that is given to you and give the final answer without any special characters\\n\\n---\\n\\nFollow the following format.\\n\\nQuestion: A math problem\\nReasoning: Let's think step by step in order to ${produce the answer}. We ...\\nAnswer: The final numeric answer in plain number\\n\\n---\\n\\nQuestion: Gary purchased a yacht for $90,000. In the first year, it depreciated by 30%. In the second year, it depreciated by another 30%. In the third year, it depreciated by 20%. How much is the yacht worth after the three years?\\nReasoning: Let's think step by step in order to Question: Gary purchased a yacht for $90,000. In the first year, it depreciated by 30%. In the second year, it depreciated by another 30%. In the third year, it depreciated by 20%. How much is the yacht worth after the three years? Reasoning: Let's think step by step in order to produce the answer. We start with the initial value of the yacht, which is $90,000. 1. In the first year, the yacht depreciates by 30%. Depreciation amount for the first year = 30% of $90,000 = 0.30 * 90,000 = $27,000. Value after the first year =\\nAnswer:\\x1b[32m Question: Gary purchased a yacht for $90,000. In the first year, it depreciated by 30%. In the second year, it depreciated by another 30%. In the third year, it depreciated by 20%. How much is the yacht worth after the three years?\\nReasoning: Let's think step by step in order to produce the answer.\\x1b[0m\\n\\n\\n\""
      ]
     },
     "execution_count": 152,
     "metadata": {},
     "output_type": "execute_result"
    }
   ],
   "source": [
    "gpt4.inspect_history(n = 2)"
   ]
  },
  {
   "cell_type": "markdown",
   "id": "4d60efe7",
   "metadata": {},
   "source": [
    "Both of the items seem to have issue with response formatting. Instead of giving the final answer, the model is giving something else. Let us try to train our signature using a module and an optimizer and see if things get better."
   ]
  },
  {
   "cell_type": "markdown",
   "id": "037e25f9",
   "metadata": {},
   "source": [
    "## Create a module"
   ]
  },
  {
   "cell_type": "code",
   "execution_count": 153,
   "id": "7402e605",
   "metadata": {},
   "outputs": [],
   "source": [
    "class MathBot(dspy.Module):\n",
    "    def __init__(self):\n",
    "        super().__init__()\n",
    "\n",
    "        self.generate_answer = dspy.ChainOfThought(BasicMathTask)\n",
    "    \n",
    "    def forward(self, question):\n",
    "        prediction = self.generate_answer(question=question)\n",
    "        return prediction"
   ]
  },
  {
   "cell_type": "code",
   "execution_count": 154,
   "id": "793f5046",
   "metadata": {},
   "outputs": [
    {
     "data": {
      "text/plain": [
       "Prediction(\n",
       "    rationale=\"Question: Gary purchased a yacht for $90,000. In the first year, it depreciated by 30%. In the second year, it depreciated by another 30%. In the third year, it depreciated by 20%. How much is the yacht worth after the three years?\\nReasoning: Let's think step by step in order to produce the answer. We start with the initial value of the yacht, which is $90,000. \\n\\n1. In the first year, the yacht depreciates by 30%. \\n   Depreciation amount for the first year = 30% of $90,000 = 0.30 * 90,000 = $27,000.\\n   Value after the first year =\",\n",
       "    answer=\"Question: Gary purchased a yacht for $90,000. In the first year, it depreciated by 30%. In the second year, it depreciated by another 30%. In the third year, it depreciated by 20%. How much is the yacht worth after the three years?\\nReasoning: Let's think step by step in order to produce the answer.\"\n",
       ")"
      ]
     },
     "execution_count": 154,
     "metadata": {},
     "output_type": "execute_result"
    }
   ],
   "source": [
    "mathbot = MathBot()\n",
    "mathbot(question = train[0].question)"
   ]
  },
  {
   "cell_type": "markdown",
   "id": "6989e3d4",
   "metadata": {},
   "source": [
    "## Define a validation funciton"
   ]
  },
  {
   "cell_type": "code",
   "execution_count": 76,
   "id": "bb80a5b8",
   "metadata": {},
   "outputs": [],
   "source": [
    "def validate_answer(correct_label, prediction, trace = None):\n",
    "    answer_EM = dspy.evaluate.answer_exact_match(correct_label, prediction)\n",
    "    return answer_EM"
   ]
  },
  {
   "cell_type": "markdown",
   "id": "20e94b84",
   "metadata": {},
   "source": [
    "Let's check how the validation function works:"
   ]
  },
  {
   "cell_type": "code",
   "execution_count": 155,
   "id": "0d55f90f",
   "metadata": {},
   "outputs": [
    {
     "data": {
      "text/plain": [
       "True"
      ]
     },
     "execution_count": 155,
     "metadata": {},
     "output_type": "execute_result"
    }
   ],
   "source": [
    "validate_answer(Example(answer=\"4\"), Example(answer=\"4\"))"
   ]
  },
  {
   "cell_type": "code",
   "execution_count": 49,
   "id": "768e2719",
   "metadata": {},
   "outputs": [
    {
     "data": {
      "text/plain": [
       "False"
      ]
     },
     "execution_count": 49,
     "metadata": {},
     "output_type": "execute_result"
    }
   ],
   "source": [
    "validate_answer(Example(answer=\"4\"), Example(answer=\"=four\"))"
   ]
  },
  {
   "cell_type": "markdown",
   "id": "2482144f",
   "metadata": {},
   "source": [
    "## Define and execute the optimizer\n",
    "\n",
    "Read more on optimizers here, we will use BootstrapFewShotWithRandomSearch optimizer that will focus on creating a good few-shot prompt. https://dspy-docs.vercel.app/docs/building-blocks/optimizers"
   ]
  },
  {
   "cell_type": "code",
   "execution_count": 156,
   "id": "5fe5ed8e",
   "metadata": {},
   "outputs": [
    {
     "name": "stderr",
     "output_type": "stream",
     "text": [
      "Average Metric: 6 / 30  (20.0): 100%|██████████████████| 30/30 [00:14<00:00,  2.11it/s]\n",
      "Average Metric: 12 / 30  (40.0): 100%|█████████████████| 30/30 [00:13<00:00,  2.31it/s]\n",
      " 57%|████████████████████████████▎                     | 17/30 [00:05<00:04,  2.90it/s]\n",
      "Average Metric: 11 / 30  (36.7): 100%|█████████████████| 30/30 [00:13<00:00,  2.24it/s]\n",
      " 37%|██████████████████▎                               | 11/30 [00:43<01:15,  3.97s/it]\n",
      "Average Metric: 14 / 30  (46.7): 100%|█████████████████| 30/30 [00:11<00:00,  2.69it/s]\n",
      " 10%|█████                                              | 3/30 [00:07<01:11,  2.66s/it]\n",
      "Average Metric: 10 / 30  (33.3): 100%|█████████████████| 30/30 [00:13<00:00,  2.29it/s]\n",
      "  3%|█▋                                                 | 1/30 [00:02<01:10,  2.44s/it]\n",
      "Average Metric: 17 / 30  (56.7): 100%|█████████████████| 30/30 [00:13<00:00,  2.19it/s]\n",
      " 13%|██████▊                                            | 4/30 [00:14<01:35,  3.68s/it]\n",
      "Average Metric: 8 / 30  (26.7): 100%|██████████████████| 30/30 [00:13<00:00,  2.24it/s]\n",
      "  7%|███▍                                               | 2/30 [00:05<01:17,  2.77s/it]\n",
      "Average Metric: 10 / 30  (33.3): 100%|█████████████████| 30/30 [00:13<00:00,  2.29it/s]\n",
      " 50%|█████████████████████████                         | 15/30 [00:53<00:53,  3.54s/it]\n",
      "Average Metric: 12 / 30  (40.0): 100%|█████████████████| 30/30 [00:13<00:00,  2.21it/s]\n",
      " 50%|█████████████████████████                         | 15/30 [00:53<00:53,  3.57s/it]\n",
      "Average Metric: 11 / 30  (36.7): 100%|█████████████████| 30/30 [00:14<00:00,  2.12it/s]\n",
      " 53%|██████████████████████████▋                       | 16/30 [01:07<00:58,  4.21s/it]\n",
      "Average Metric: 16 / 30  (53.3): 100%|█████████████████| 30/30 [00:12<00:00,  2.45it/s]\n",
      " 13%|██████▊                                            | 4/30 [00:14<01:32,  3.55s/it]\n",
      "Average Metric: 17 / 30  (56.7): 100%|█████████████████| 30/30 [00:11<00:00,  2.52it/s]\n",
      " 50%|█████████████████████████                         | 15/30 [00:55<00:55,  3.71s/it]\n",
      "Average Metric: 13 / 30  (43.3): 100%|█████████████████| 30/30 [00:11<00:00,  2.57it/s]\n"
     ]
    }
   ],
   "source": [
    "# the optimizer will run num_candidate_programs times plus a few more \n",
    "config = dict(max_bootstrapped_demos=5, max_labeled_demos=5, num_candidate_programs=10, num_threads=10)\n",
    "\n",
    "# create the optimizer\n",
    "optimizer = BootstrapFewShotWithRandomSearch(metric=validate_answer, **config)\n",
    "\n",
    "# Compile!\n",
    "optimized_mathbot = optimizer.compile(MathBot(), trainset=train)"
   ]
  },
  {
   "cell_type": "markdown",
   "id": "6d79f336",
   "metadata": {},
   "source": [
    "## Test the optimized program/prompt\n",
    "\n",
    "Let us generate a response using the optimized program first."
   ]
  },
  {
   "cell_type": "code",
   "execution_count": 162,
   "id": "e6aa94c9",
   "metadata": {},
   "outputs": [
    {
     "data": {
      "text/plain": [
       "Prediction(\n",
       "    rationale=\"Reasoning: Let's think step by step in order to produce the answer. We need to set up equations based on the information given. Let \\\\( S \\\\) be the number of books Sofie has, \\\\( A \\\\) be the number of books Anne has, and \\\\( F \\\\) be the number of books Fawn has.\\n\\n1. Sofie's collection exceeds Anne's by 25 books:\\n\\\\[ S = A + 25 \\\\]\\n\\n2. Anne's collection is short of Fawn's by 12 books:\\n\\\\[ A = F - 12 \\\\]\\n\\n3. The total number of books is 85:\\n\\\\[ S + A + F = 85 \\\\]\\n\\nSubstitute \\\\( S \\\\) and \\\\( A \\\\) in terms of\",\n",
       "    answer=\"Question: Sofie, Anne, and Fawn collectively own 85 books. Sofie's collection exceeds Anne's by 25 books, while Anne's collection is short of Fawn's by 12 books. Can you determine the number of books in Fawn's possession?\\nReasoning: Let's think step by step in order to produce the answer. We need to set up\"\n",
       ")"
      ]
     },
     "execution_count": 162,
     "metadata": {},
     "output_type": "execute_result"
    }
   ],
   "source": [
    "optimized_mathbot.generate_answer(question = all_examples[250].question)"
   ]
  },
  {
   "cell_type": "markdown",
   "id": "9ca03f88",
   "metadata": {},
   "source": [
    "Still not good since answer contains question as we saw before, let us try another example."
   ]
  },
  {
   "cell_type": "code",
   "execution_count": 168,
   "id": "59248f63",
   "metadata": {},
   "outputs": [
    {
     "data": {
      "text/plain": [
       "Prediction(\n",
       "    rationale=\"Reasoning: Let's think step by step in order to produce the answer. We know that the total amount invested is $1200. Dylan invested 2/5 of the total amount, which is 2/5 * 1200 = 480 dollars. The remaining amount after Dylan's investment is 1200 - 480 = 720 dollars. Frances then invested 2/3 of the remaining amount, which is 2/3 * 720 = 480 dollars. The remaining amount after Frances's investment is 720 - 480 = 240 dollars. Therefore, Skyler invested the remaining amount, which is 240 dollars.\",\n",
       "    answer='240'\n",
       ")"
      ]
     },
     "execution_count": 168,
     "metadata": {},
     "output_type": "execute_result"
    }
   ],
   "source": [
    "optimized_mathbot.generate_answer(question = all_examples[251].question)"
   ]
  },
  {
   "cell_type": "markdown",
   "id": "e0c01134",
   "metadata": {},
   "source": [
    "This is a better response. Let us inspect history to see the final prompt."
   ]
  },
  {
   "cell_type": "code",
   "execution_count": 169,
   "id": "e48faf60",
   "metadata": {},
   "outputs": [
    {
     "name": "stdout",
     "output_type": "stream",
     "text": [
      "\n",
      "\n",
      "\n",
      "Solve the math question that is given to you and give the final answer without any special characters\n",
      "\n",
      "---\n",
      "\n",
      "Follow the following format.\n",
      "\n",
      "Question: A math problem\n",
      "Reasoning: Let's think step by step in order to ${produce the answer}. We ...\n",
      "Answer: The final numeric answer in plain number\n",
      "\n",
      "---\n",
      "\n",
      "Question: For three years, Elise has been marketing her father's book collection, which consists of 250 books. Each book is priced at 20$. In her first year, she managed to sell double the number of books she sold this year. At present, there are 50 books that have not been sold yet, and she has sold 45 books this year. Can you calculate the total revenue she generated in her second year of sales?\n",
      "Reasoning: Let's think step by step in order to Reasoning: Let's think step by step in order to produce the answer. We know that Elise has sold 45 books this year. Since she sold double the number of books in her first year, she sold 45 * 2 = 90 books in her first year. The total number of books sold so far is 250 - 50 = 200 books. Therefore, the number of books sold in her second year is 200 - (90 + 45) = 65 books. Each book is priced at 20 dollars, so the revenue generated in her second year is 65 * 20 = 1300 dollars.\n",
      "Answer: 1300\n",
      "\n",
      "---\n",
      "\n",
      "Question: Ara joined the school basketball team five years ago. She has been playing 50 games every year. If her score for every game is 25 points, calculate the total number of points she has scored in the five years.\n",
      "Answer: 6250\n",
      "\n",
      "---\n",
      "\n",
      "Question: Carson resides in an ancient dwelling where the pipes will solidify if the temperature inside the dwelling falls below 32/1 degrees. Every fraction of a log of wood Carson incinerates heats the dwelling up by 5.0 degrees. If it was 45.0 degrees during the day, and it's 33/1 degrees colder during the night compared to the day, how many logs does Carson need to incinerate to prevent the pipes from solidifying?\n",
      "Answer: 4\n",
      "\n",
      "---\n",
      "\n",
      "Question: Stephen received his online grocery order and the final price, including a 25% vendor fee, $3.00 delivery fees, and a $4.00 tip, came to $57.00. If the vendor fee was removed, what would be the cost of Stephen's groceries before any additional fees were added?\n",
      "Answer: 40\n",
      "\n",
      "---\n",
      "\n",
      "Question: Helena, a passionate experimenter, has developed a new concoction known as the Multi-Limb Elixir. This elixir, when consumed, results in the growth of an additional arm every three days and an additional leg every five days. If a person were to consume this elixir, how many additional limbs would they have grown after a period of fifteen days?\n",
      "Answer: 8\n",
      "\n",
      "---\n",
      "\n",
      "Question: Three people decided to invest in a joint savings account during a lunar eclipse, a time when they believed their investments would be most prosperous. They collectively invested $1200. Dylan, being superstitious, decided to invest exactly 2/5 of the total amount during the peak of the eclipse. Frances, who was less superstitious, waited until the eclipse was 2/3 over before investing 2/3 of the remaining amount. Skyler, who didn't believe in the superstitions at all, invested the rest of the money once the eclipse had completely passed. How much money was Skyler's investment?\n",
      "Reasoning: Let's think step by step in order to\u001b[32m Reasoning: Let's think step by step in order to produce the answer. We know that the total amount invested is $1200. Dylan invested 2/5 of the total amount, which is 2/5 * 1200 = 480 dollars. The remaining amount after Dylan's investment is 1200 - 480 = 720 dollars. Frances then invested 2/3 of the remaining amount, which is 2/3 * 720 = 480 dollars. The remaining amount after Frances's investment is 720 - 480 = 240 dollars. Therefore, Skyler invested the remaining amount, which is 240 dollars.\n",
      "\n",
      "Answer: 240\u001b[0m\n",
      "\n",
      "\n",
      "\n"
     ]
    },
    {
     "data": {
      "text/plain": [
       "\"\\n\\n\\nSolve the math question that is given to you and give the final answer without any special characters\\n\\n---\\n\\nFollow the following format.\\n\\nQuestion: A math problem\\nReasoning: Let's think step by step in order to ${produce the answer}. We ...\\nAnswer: The final numeric answer in plain number\\n\\n---\\n\\nQuestion: For three years, Elise has been marketing her father's book collection, which consists of 250 books. Each book is priced at 20$. In her first year, she managed to sell double the number of books she sold this year. At present, there are 50 books that have not been sold yet, and she has sold 45 books this year. Can you calculate the total revenue she generated in her second year of sales?\\nReasoning: Let's think step by step in order to Reasoning: Let's think step by step in order to produce the answer. We know that Elise has sold 45 books this year. Since she sold double the number of books in her first year, she sold 45 * 2 = 90 books in her first year. The total number of books sold so far is 250 - 50 = 200 books. Therefore, the number of books sold in her second year is 200 - (90 + 45) = 65 books. Each book is priced at 20 dollars, so the revenue generated in her second year is 65 * 20 = 1300 dollars.\\nAnswer: 1300\\n\\n---\\n\\nQuestion: Ara joined the school basketball team five years ago. She has been playing 50 games every year. If her score for every game is 25 points, calculate the total number of points she has scored in the five years.\\nAnswer: 6250\\n\\n---\\n\\nQuestion: Carson resides in an ancient dwelling where the pipes will solidify if the temperature inside the dwelling falls below 32/1 degrees. Every fraction of a log of wood Carson incinerates heats the dwelling up by 5.0 degrees. If it was 45.0 degrees during the day, and it's 33/1 degrees colder during the night compared to the day, how many logs does Carson need to incinerate to prevent the pipes from solidifying?\\nAnswer: 4\\n\\n---\\n\\nQuestion: Stephen received his online grocery order and the final price, including a 25% vendor fee, $3.00 delivery fees, and a $4.00 tip, came to $57.00. If the vendor fee was removed, what would be the cost of Stephen's groceries before any additional fees were added?\\nAnswer: 40\\n\\n---\\n\\nQuestion: Helena, a passionate experimenter, has developed a new concoction known as the Multi-Limb Elixir. This elixir, when consumed, results in the growth of an additional arm every three days and an additional leg every five days. If a person were to consume this elixir, how many additional limbs would they have grown after a period of fifteen days?\\nAnswer: 8\\n\\n---\\n\\nQuestion: Three people decided to invest in a joint savings account during a lunar eclipse, a time when they believed their investments would be most prosperous. They collectively invested $1200. Dylan, being superstitious, decided to invest exactly 2/5 of the total amount during the peak of the eclipse. Frances, who was less superstitious, waited until the eclipse was 2/3 over before investing 2/3 of the remaining amount. Skyler, who didn't believe in the superstitions at all, invested the rest of the money once the eclipse had completely passed. How much money was Skyler's investment?\\nReasoning: Let's think step by step in order to\\x1b[32m Reasoning: Let's think step by step in order to produce the answer. We know that the total amount invested is $1200. Dylan invested 2/5 of the total amount, which is 2/5 * 1200 = 480 dollars. The remaining amount after Dylan's investment is 1200 - 480 = 720 dollars. Frances then invested 2/3 of the remaining amount, which is 2/3 * 720 = 480 dollars. The remaining amount after Frances's investment is 720 - 480 = 240 dollars. Therefore, Skyler invested the remaining amount, which is 240 dollars.\\n\\nAnswer: 240\\x1b[0m\\n\\n\\n\""
      ]
     },
     "execution_count": 169,
     "metadata": {},
     "output_type": "execute_result"
    }
   ],
   "source": [
    "gpt4.inspect_history(1)"
   ]
  },
  {
   "cell_type": "markdown",
   "id": "8ed06404",
   "metadata": {},
   "source": [
    "# Evaluation - baseline v/s optimized prompt programs\n",
    "\n",
    "Our baseline was a `MathBot()` without any optimization and final program `compiled_mathbot` which is an instance of `MathBot` contains the optimized program."
   ]
  },
  {
   "cell_type": "code",
   "execution_count": 160,
   "id": "b359154a",
   "metadata": {},
   "outputs": [
    {
     "data": {
      "text/plain": [
       "__main__.MathBot"
      ]
     },
     "execution_count": 160,
     "metadata": {},
     "output_type": "execute_result"
    }
   ],
   "source": [
    "mathbot.__class__"
   ]
  },
  {
   "cell_type": "code",
   "execution_count": 164,
   "id": "7d418914",
   "metadata": {},
   "outputs": [
    {
     "data": {
      "text/plain": [
       "__main__.MathBot"
      ]
     },
     "execution_count": 164,
     "metadata": {},
     "output_type": "execute_result"
    }
   ],
   "source": [
    "optimized_mathbot.__class__"
   ]
  },
  {
   "cell_type": "markdown",
   "id": "4c0903d4",
   "metadata": {},
   "source": [
    "Define the evaluator configuration"
   ]
  },
  {
   "cell_type": "code",
   "execution_count": 165,
   "id": "11a49966",
   "metadata": {},
   "outputs": [],
   "source": [
    "evaluator = Evaluate(devset=val, num_threads=15, display_progress=True, display_table=15)"
   ]
  },
  {
   "cell_type": "markdown",
   "id": "16455021",
   "metadata": {},
   "source": [
    "### Baseline evaluation"
   ]
  },
  {
   "cell_type": "code",
   "execution_count": 166,
   "id": "e2c9aac2",
   "metadata": {},
   "outputs": [
    {
     "name": "stderr",
     "output_type": "stream",
     "text": [
      "Average Metric: 2 / 30  (6.7): 100%|███████████████████| 30/30 [00:09<00:00,  3.31it/s]\n"
     ]
    },
    {
     "data": {
      "text/html": [
       "<style type=\"text/css\">\n",
       "#T_b63e0 th {\n",
       "  text-align: left;\n",
       "}\n",
       "#T_b63e0 td {\n",
       "  text-align: left;\n",
       "}\n",
       "#T_b63e0_row0_col0, #T_b63e0_row0_col1, #T_b63e0_row0_col2, #T_b63e0_row0_col3, #T_b63e0_row0_col4, #T_b63e0_row1_col0, #T_b63e0_row1_col1, #T_b63e0_row1_col2, #T_b63e0_row1_col3, #T_b63e0_row1_col4, #T_b63e0_row2_col0, #T_b63e0_row2_col1, #T_b63e0_row2_col2, #T_b63e0_row2_col3, #T_b63e0_row2_col4, #T_b63e0_row3_col0, #T_b63e0_row3_col1, #T_b63e0_row3_col2, #T_b63e0_row3_col3, #T_b63e0_row3_col4, #T_b63e0_row4_col0, #T_b63e0_row4_col1, #T_b63e0_row4_col2, #T_b63e0_row4_col3, #T_b63e0_row4_col4, #T_b63e0_row5_col0, #T_b63e0_row5_col1, #T_b63e0_row5_col2, #T_b63e0_row5_col3, #T_b63e0_row5_col4, #T_b63e0_row6_col0, #T_b63e0_row6_col1, #T_b63e0_row6_col2, #T_b63e0_row6_col3, #T_b63e0_row6_col4, #T_b63e0_row7_col0, #T_b63e0_row7_col1, #T_b63e0_row7_col2, #T_b63e0_row7_col3, #T_b63e0_row7_col4, #T_b63e0_row8_col0, #T_b63e0_row8_col1, #T_b63e0_row8_col2, #T_b63e0_row8_col3, #T_b63e0_row8_col4, #T_b63e0_row9_col0, #T_b63e0_row9_col1, #T_b63e0_row9_col2, #T_b63e0_row9_col3, #T_b63e0_row9_col4, #T_b63e0_row10_col0, #T_b63e0_row10_col1, #T_b63e0_row10_col2, #T_b63e0_row10_col3, #T_b63e0_row10_col4, #T_b63e0_row11_col0, #T_b63e0_row11_col1, #T_b63e0_row11_col2, #T_b63e0_row11_col3, #T_b63e0_row11_col4, #T_b63e0_row12_col0, #T_b63e0_row12_col1, #T_b63e0_row12_col2, #T_b63e0_row12_col3, #T_b63e0_row12_col4, #T_b63e0_row13_col0, #T_b63e0_row13_col1, #T_b63e0_row13_col2, #T_b63e0_row13_col3, #T_b63e0_row13_col4, #T_b63e0_row14_col0, #T_b63e0_row14_col1, #T_b63e0_row14_col2, #T_b63e0_row14_col3, #T_b63e0_row14_col4 {\n",
       "  text-align: left;\n",
       "  white-space: pre-wrap;\n",
       "  word-wrap: break-word;\n",
       "  max-width: 400px;\n",
       "}\n",
       "</style>\n",
       "<table id=\"T_b63e0\">\n",
       "  <thead>\n",
       "    <tr>\n",
       "      <th class=\"blank level0\" >&nbsp;</th>\n",
       "      <th id=\"T_b63e0_level0_col0\" class=\"col_heading level0 col0\" >question</th>\n",
       "      <th id=\"T_b63e0_level0_col1\" class=\"col_heading level0 col1\" >example_answer</th>\n",
       "      <th id=\"T_b63e0_level0_col2\" class=\"col_heading level0 col2\" >rationale</th>\n",
       "      <th id=\"T_b63e0_level0_col3\" class=\"col_heading level0 col3\" >pred_answer</th>\n",
       "      <th id=\"T_b63e0_level0_col4\" class=\"col_heading level0 col4\" >validate_answer</th>\n",
       "    </tr>\n",
       "  </thead>\n",
       "  <tbody>\n",
       "    <tr>\n",
       "      <th id=\"T_b63e0_level0_row0\" class=\"row_heading level0 row0\" >0</th>\n",
       "      <td id=\"T_b63e0_row0_col0\" class=\"data row0 col0\" >Boris has 100 apples and 50 oranges. Beck has 23 fewer apples than Boris and 30 more oranges. If Boris gives Beck 10 apples and...</td>\n",
       "      <td id=\"T_b63e0_row0_col1\" class=\"data row0 col1\" >3</td>\n",
       "      <td id=\"T_b63e0_row0_col2\" class=\"data row0 col2\" >Reasoning: Let's think step by step in order to produce the answer. We start by determining the initial number of apples and oranges each person...</td>\n",
       "      <td id=\"T_b63e0_row0_col3\" class=\"data row0 col3\" >Question: Boris has 100 apples and 50 oranges. Beck has 23 fewer apples than Boris and 30 more oranges. If Boris gives Beck 10 apples...</td>\n",
       "      <td id=\"T_b63e0_row0_col4\" class=\"data row0 col4\" >False</td>\n",
       "    </tr>\n",
       "    <tr>\n",
       "      <th id=\"T_b63e0_level0_row1\" class=\"row_heading level0 row1\" >1</th>\n",
       "      <td id=\"T_b63e0_row1_col0\" class=\"data row1 col0\" >Lloyd earns $100 an hour on Math tutoring. He tutored 50 hours for the first week and 80 hours for the second week. How much...</td>\n",
       "      <td id=\"T_b63e0_row1_col1\" class=\"data row1 col1\" >13000</td>\n",
       "      <td id=\"T_b63e0_row1_col2\" class=\"data row1 col2\" >Reasoning: Let's think step by step in order to produce the answer. We need to calculate Lloyd's earnings for each week and then sum them...</td>\n",
       "      <td id=\"T_b63e0_row1_col3\" class=\"data row1 col3\" >Question: Lloyd earns $100 an hour on Math tutoring. He tutored 50 hours for the first week and 80 hours for the second week. How...</td>\n",
       "      <td id=\"T_b63e0_row1_col4\" class=\"data row1 col4\" >False</td>\n",
       "    </tr>\n",
       "    <tr>\n",
       "      <th id=\"T_b63e0_level0_row2\" class=\"row_heading level0 row2\" >2</th>\n",
       "      <td id=\"T_b63e0_row2_col0\" class=\"data row2 col0\" >The Llesis family drove and hiked 6.0 hours to their vacation spot. They drove an average of 50.0 miles per hour and hiked an average...</td>\n",
       "      <td id=\"T_b63e0_row2_col1\" class=\"data row2 col1\" >255</td>\n",
       "      <td id=\"T_b63e0_row2_col2\" class=\"data row2 col2\" >Reasoning: Let's think step by step in order to produce the answer. We know the total time spent traveling is 6.0 hours, and the time...</td>\n",
       "      <td id=\"T_b63e0_row2_col3\" class=\"data row2 col3\" >Question: The Llesis family drove and hiked 6.0 hours to their vacation spot. They drove an average of 50.0 miles per hour and hiked an...</td>\n",
       "      <td id=\"T_b63e0_row2_col4\" class=\"data row2 col4\" >False</td>\n",
       "    </tr>\n",
       "    <tr>\n",
       "      <th id=\"T_b63e0_level0_row3\" class=\"row_heading level0 row3\" >3</th>\n",
       "      <td id=\"T_b63e0_row3_col0\" class=\"data row3 col0\" >James enjoys swimming and needs to traverse a lake that is 20 miles wide. His swimming speed is 2 miles per hour. He covers 60%...</td>\n",
       "      <td id=\"T_b63e0_row3_col1\" class=\"data row3 col1\" >17</td>\n",
       "      <td id=\"T_b63e0_row3_col2\" class=\"data row3 col2\" >Reasoning: Let's think step by step in order to produce the answer. We need to calculate the time James spent swimming in two parts and...</td>\n",
       "      <td id=\"T_b63e0_row3_col3\" class=\"data row3 col3\" >Question: James enjoys swimming and needs to traverse a lake that is 20 miles wide. His swimming speed is 2 miles per hour. He covers...</td>\n",
       "      <td id=\"T_b63e0_row3_col4\" class=\"data row3 col4\" >False</td>\n",
       "    </tr>\n",
       "    <tr>\n",
       "      <th id=\"T_b63e0_level0_row4\" class=\"row_heading level0 row4\" >4</th>\n",
       "      <td id=\"T_b63e0_row4_col0\" class=\"data row4 col0\" >Mark is preparing a quadruple batch of brownies for a large gathering. The standard recipe calls for 300 cups of flour and 100 cups of...</td>\n",
       "      <td id=\"T_b63e0_row4_col1\" class=\"data row4 col1\" >4</td>\n",
       "      <td id=\"T_b63e0_row4_col2\" class=\"data row4 col2\" >Question: Mark is preparing a quadruple batch of brownies for a large gathering. The standard recipe calls for 300 cups of flour and 100 cups...</td>\n",
       "      <td id=\"T_b63e0_row4_col3\" class=\"data row4 col3\" >Question: Mark is preparing a quadruple batch of brownies for a large gathering. The standard recipe calls for 300 cups of flour and 100 cups...</td>\n",
       "      <td id=\"T_b63e0_row4_col4\" class=\"data row4 col4\" >False</td>\n",
       "    </tr>\n",
       "    <tr>\n",
       "      <th id=\"T_b63e0_level0_row5\" class=\"row_heading level0 row5\" >5</th>\n",
       "      <td id=\"T_b63e0_row5_col0\" class=\"data row5 col0\" >Nathan has a bouncy ball that bounces to 2/3rds of its starting height with each bounce. If he drops it from the third-floor balcony in...</td>\n",
       "      <td id=\"T_b63e0_row5_col1\" class=\"data row5 col1\" >24</td>\n",
       "      <td id=\"T_b63e0_row5_col2\" class=\"data row5 col2\" >Reasoning: Let's think step by step in order to produce the answer. We know that the ball bounces to 2/3 of its previous height with...</td>\n",
       "      <td id=\"T_b63e0_row5_col3\" class=\"data row5 col3\" >Question: Nathan has a bouncy ball that bounces to 2/3rds of its starting height with each bounce. If he drops it from the third-floor balcony...</td>\n",
       "      <td id=\"T_b63e0_row5_col4\" class=\"data row5 col4\" >False</td>\n",
       "    </tr>\n",
       "    <tr>\n",
       "      <th id=\"T_b63e0_level0_row6\" class=\"row_heading level0 row6\" >6</th>\n",
       "      <td id=\"T_b63e0_row6_col0\" class=\"data row6 col0\" >Mr. Smith has two farms, Farm X and Farm Y. Initially, he has 55 goats in Farm X and 45 goats in Farm Y. One...</td>\n",
       "      <td id=\"T_b63e0_row6_col1\" class=\"data row6 col1\" >84</td>\n",
       "      <td id=\"T_b63e0_row6_col2\" class=\"data row6 col2\" >Reasoning: Let's think step by step in order to produce the answer. We start with the initial number of goats in each farm and then...</td>\n",
       "      <td id=\"T_b63e0_row6_col3\" class=\"data row6 col3\" >Question: Mr. Smith has two farms, Farm X and Farm Y. Initially, he has 55 goats in Farm X and 45 goats in Farm Y....</td>\n",
       "      <td id=\"T_b63e0_row6_col4\" class=\"data row6 col4\" >False</td>\n",
       "    </tr>\n",
       "    <tr>\n",
       "      <th id=\"T_b63e0_level0_row7\" class=\"row_heading level0 row7\" >7</th>\n",
       "      <td id=\"T_b63e0_row7_col0\" class=\"data row7 col0\" >Tom purchases a new bedroom suite for $3000. He manages to sell his previous bedroom suite for $1000, which he uses to offset the cost...</td>\n",
       "      <td id=\"T_b63e0_row7_col1\" class=\"data row7 col1\" >200</td>\n",
       "      <td id=\"T_b63e0_row7_col2\" class=\"data row7 col2\" >Question: Tom purchases a new bedroom suite for $3000. He manages to sell his previous bedroom suite for $1000, which he uses to offset the...</td>\n",
       "      <td id=\"T_b63e0_row7_col3\" class=\"data row7 col3\" >Question: Tom purchases a new bedroom suite for $3000. He manages to sell his previous bedroom suite for $1000, which he uses to offset the...</td>\n",
       "      <td id=\"T_b63e0_row7_col4\" class=\"data row7 col4\" >False</td>\n",
       "    </tr>\n",
       "    <tr>\n",
       "      <th id=\"T_b63e0_level0_row8\" class=\"row_heading level0 row8\" >8</th>\n",
       "      <td id=\"T_b63e0_row8_col0\" class=\"data row8 col0\" >Toby is reading a book that is 60 pages long. It averages 250 words a page. Toby can read at a rate of 350 words...</td>\n",
       "      <td id=\"T_b63e0_row8_col1\" class=\"data row8 col1\" >32.14</td>\n",
       "      <td id=\"T_b63e0_row8_col2\" class=\"data row8 col2\" >Reasoning: Let's think step by step in order to produce the answer. We need to determine how long it will take Toby to read the...</td>\n",
       "      <td id=\"T_b63e0_row8_col3\" class=\"data row8 col3\" >Question: Toby is reading a book that is 60 pages long. It averages 250 words a page. Toby can read at a rate of 350...</td>\n",
       "      <td id=\"T_b63e0_row8_col4\" class=\"data row8 col4\" >False</td>\n",
       "    </tr>\n",
       "    <tr>\n",
       "      <th id=\"T_b63e0_level0_row9\" class=\"row_heading level0 row9\" >9</th>\n",
       "      <td id=\"T_b63e0_row9_col0\" class=\"data row9 col0\" >Poppy is solving a 1500-piece jigsaw puzzle. She places a third of the pieces on the board, then her dad places a quarter of the...</td>\n",
       "      <td id=\"T_b63e0_row9_col1\" class=\"data row9 col1\" >750</td>\n",
       "      <td id=\"T_b63e0_row9_col2\" class=\"data row9 col2\" >Question: Poppy is solving a 1500-piece jigsaw puzzle. She places a third of the pieces on the board, then her dad places a quarter of...</td>\n",
       "      <td id=\"T_b63e0_row9_col3\" class=\"data row9 col3\" >Question: Poppy is solving a 1500-piece jigsaw puzzle. She places a third of the pieces on the board, then her dad places a quarter of...</td>\n",
       "      <td id=\"T_b63e0_row9_col4\" class=\"data row9 col4\" >False</td>\n",
       "    </tr>\n",
       "    <tr>\n",
       "      <th id=\"T_b63e0_level0_row10\" class=\"row_heading level0 row10\" >10</th>\n",
       "      <td id=\"T_b63e0_row10_col0\" class=\"data row10 col0\" >Pat has a flower bed that is 150 feet long. Pat wants to fill her flower bed with plants. Pat's flowers grow 18 inches wide...</td>\n",
       "      <td id=\"T_b63e0_row10_col1\" class=\"data row10 col1\" >176</td>\n",
       "      <td id=\"T_b63e0_row10_col2\" class=\"data row10 col2\" >Question: Pat has a flower bed that is 150 feet long. Pat wants to fill her flower bed with plants. Pat's flowers grow 18 inches...</td>\n",
       "      <td id=\"T_b63e0_row10_col3\" class=\"data row10 col3\" >Question: Pat has a flower bed that is 150 feet long. Pat wants to fill her flower bed with plants. Pat's flowers grow 18 inches...</td>\n",
       "      <td id=\"T_b63e0_row10_col4\" class=\"data row10 col4\" >False</td>\n",
       "    </tr>\n",
       "    <tr>\n",
       "      <th id=\"T_b63e0_level0_row11\" class=\"row_heading level0 row11\" >11</th>\n",
       "      <td id=\"T_b63e0_row11_col0\" class=\"data row11 col0\" >Last month, Tasha made $120 from selling lemonade and mowing lawns. The first week, she mowed Kamala's lawn twice as many times as she did...</td>\n",
       "      <td id=\"T_b63e0_row11_col1\" class=\"data row11 col1\" >64</td>\n",
       "      <td id=\"T_b63e0_row11_col2\" class=\"data row11 col2\" >Question: Last month, Tasha made $120 from selling lemonade and mowing lawns. The first week, she mowed Kamala's lawn twice as many times as she...</td>\n",
       "      <td id=\"T_b63e0_row11_col3\" class=\"data row11 col3\" >Question: Last month, Tasha made $120 from selling lemonade and mowing lawns. The first week, she mowed Kamala's lawn twice as many times as she...</td>\n",
       "      <td id=\"T_b63e0_row11_col4\" class=\"data row11 col4\" >False</td>\n",
       "    </tr>\n",
       "    <tr>\n",
       "      <th id=\"T_b63e0_level0_row12\" class=\"row_heading level0 row12\" >12</th>\n",
       "      <td id=\"T_b63e0_row12_col0\" class=\"data row12 col0\" >A local town is expanding and wants to construct several new homes over the next five years. In the first year, they will build 20...</td>\n",
       "      <td id=\"T_b63e0_row12_col1\" class=\"data row12 col1\" >120</td>\n",
       "      <td id=\"T_b63e0_row12_col2\" class=\"data row12 col2\" >Question: A local town is expanding and wants to construct several new homes over the next five years. In the first year, they will build...</td>\n",
       "      <td id=\"T_b63e0_row12_col3\" class=\"data row12 col3\" >Question: A local town is expanding and wants to construct several new homes over the next five years. In the first year, they will build...</td>\n",
       "      <td id=\"T_b63e0_row12_col4\" class=\"data row12 col4\" >False</td>\n",
       "    </tr>\n",
       "    <tr>\n",
       "      <th id=\"T_b63e0_level0_row13\" class=\"row_heading level0 row13\" >13</th>\n",
       "      <td id=\"T_b63e0_row13_col0\" class=\"data row13 col0\" >The population of porcupines in a park is 50. The number of female porcupines is 3/5 of the total population. Each female porcupine gives birth...</td>\n",
       "      <td id=\"T_b63e0_row13_col1\" class=\"data row13 col1\" >1197</td>\n",
       "      <td id=\"T_b63e0_row13_col2\" class=\"data row13 col2\" >Reasoning: Let's think step by step in order to produce the answer. We start by calculating the number of female porcupines. Then, we determine the...</td>\n",
       "      <td id=\"T_b63e0_row13_col3\" class=\"data row13 col3\" >Question: The population of porcupines in a park is 50. The number of female porcupines is 3/5 of the total population. Each female porcupine gives...</td>\n",
       "      <td id=\"T_b63e0_row13_col4\" class=\"data row13 col4\" >False</td>\n",
       "    </tr>\n",
       "    <tr>\n",
       "      <th id=\"T_b63e0_level0_row14\" class=\"row_heading level0 row14\" >14</th>\n",
       "      <td id=\"T_b63e0_row14_col0\" class=\"data row14 col0\" >The rug is 5.0 feet wider than the chair. The couch is 2.0 feet longer than twice the width of the rug. If the chair...</td>\n",
       "      <td id=\"T_b63e0_row14_col1\" class=\"data row14 col1\" >18</td>\n",
       "      <td id=\"T_b63e0_row14_col2\" class=\"data row14 col2\" >Question: The rug is 5.0 feet wider than the chair. The couch is 2.0 feet longer than twice the width of the rug. If the...</td>\n",
       "      <td id=\"T_b63e0_row14_col3\" class=\"data row14 col3\" >Question: The rug is 5.0 feet wider than the chair. The couch is 2.0 feet longer than twice the width of the rug. If the...</td>\n",
       "      <td id=\"T_b63e0_row14_col4\" class=\"data row14 col4\" >False</td>\n",
       "    </tr>\n",
       "  </tbody>\n",
       "</table>\n"
      ],
      "text/plain": [
       "<pandas.io.formats.style.Styler at 0x7fdbbdeca6e0>"
      ]
     },
     "metadata": {},
     "output_type": "display_data"
    },
    {
     "data": {
      "text/html": [
       "\n",
       "                <div style='\n",
       "                    text-align: center;\n",
       "                    font-size: 16px;\n",
       "                    font-weight: bold;\n",
       "                    color: #555;\n",
       "                    margin: 10px 0;'>\n",
       "                    ... 15 more rows not displayed ...\n",
       "                </div>\n",
       "                "
      ],
      "text/plain": [
       "<IPython.core.display.HTML object>"
      ]
     },
     "metadata": {},
     "output_type": "display_data"
    },
    {
     "data": {
      "text/plain": [
       "6.67"
      ]
     },
     "execution_count": 166,
     "metadata": {},
     "output_type": "execute_result"
    }
   ],
   "source": [
    "evaluator(mathbot, metric=validate_answer)"
   ]
  },
  {
   "cell_type": "markdown",
   "id": "34ec3fd2",
   "metadata": {},
   "source": [
    "Only 7% accuracy, too bad.\n",
    "\n",
    "Let us eval on the optimized_mathbot."
   ]
  },
  {
   "cell_type": "code",
   "execution_count": 167,
   "id": "0deb11cd",
   "metadata": {},
   "outputs": [
    {
     "name": "stderr",
     "output_type": "stream",
     "text": [
      "Average Metric: 10 / 30  (33.3): 100%|█████████████████| 30/30 [00:09<00:00,  3.30it/s]\n"
     ]
    },
    {
     "data": {
      "text/html": [
       "<style type=\"text/css\">\n",
       "#T_d2af2 th {\n",
       "  text-align: left;\n",
       "}\n",
       "#T_d2af2 td {\n",
       "  text-align: left;\n",
       "}\n",
       "#T_d2af2_row0_col0, #T_d2af2_row0_col1, #T_d2af2_row0_col2, #T_d2af2_row0_col3, #T_d2af2_row0_col4, #T_d2af2_row1_col0, #T_d2af2_row1_col1, #T_d2af2_row1_col2, #T_d2af2_row1_col3, #T_d2af2_row1_col4, #T_d2af2_row2_col0, #T_d2af2_row2_col1, #T_d2af2_row2_col2, #T_d2af2_row2_col3, #T_d2af2_row2_col4, #T_d2af2_row3_col0, #T_d2af2_row3_col1, #T_d2af2_row3_col2, #T_d2af2_row3_col3, #T_d2af2_row3_col4, #T_d2af2_row4_col0, #T_d2af2_row4_col1, #T_d2af2_row4_col2, #T_d2af2_row4_col3, #T_d2af2_row4_col4, #T_d2af2_row5_col0, #T_d2af2_row5_col1, #T_d2af2_row5_col2, #T_d2af2_row5_col3, #T_d2af2_row5_col4, #T_d2af2_row6_col0, #T_d2af2_row6_col1, #T_d2af2_row6_col2, #T_d2af2_row6_col3, #T_d2af2_row6_col4, #T_d2af2_row7_col0, #T_d2af2_row7_col1, #T_d2af2_row7_col2, #T_d2af2_row7_col3, #T_d2af2_row7_col4, #T_d2af2_row8_col0, #T_d2af2_row8_col1, #T_d2af2_row8_col2, #T_d2af2_row8_col3, #T_d2af2_row8_col4, #T_d2af2_row9_col0, #T_d2af2_row9_col1, #T_d2af2_row9_col2, #T_d2af2_row9_col3, #T_d2af2_row9_col4, #T_d2af2_row10_col0, #T_d2af2_row10_col1, #T_d2af2_row10_col2, #T_d2af2_row10_col3, #T_d2af2_row10_col4, #T_d2af2_row11_col0, #T_d2af2_row11_col1, #T_d2af2_row11_col2, #T_d2af2_row11_col3, #T_d2af2_row11_col4, #T_d2af2_row12_col0, #T_d2af2_row12_col1, #T_d2af2_row12_col2, #T_d2af2_row12_col3, #T_d2af2_row12_col4, #T_d2af2_row13_col0, #T_d2af2_row13_col1, #T_d2af2_row13_col2, #T_d2af2_row13_col3, #T_d2af2_row13_col4, #T_d2af2_row14_col0, #T_d2af2_row14_col1, #T_d2af2_row14_col2, #T_d2af2_row14_col3, #T_d2af2_row14_col4 {\n",
       "  text-align: left;\n",
       "  white-space: pre-wrap;\n",
       "  word-wrap: break-word;\n",
       "  max-width: 400px;\n",
       "}\n",
       "</style>\n",
       "<table id=\"T_d2af2\">\n",
       "  <thead>\n",
       "    <tr>\n",
       "      <th class=\"blank level0\" >&nbsp;</th>\n",
       "      <th id=\"T_d2af2_level0_col0\" class=\"col_heading level0 col0\" >question</th>\n",
       "      <th id=\"T_d2af2_level0_col1\" class=\"col_heading level0 col1\" >example_answer</th>\n",
       "      <th id=\"T_d2af2_level0_col2\" class=\"col_heading level0 col2\" >rationale</th>\n",
       "      <th id=\"T_d2af2_level0_col3\" class=\"col_heading level0 col3\" >pred_answer</th>\n",
       "      <th id=\"T_d2af2_level0_col4\" class=\"col_heading level0 col4\" >validate_answer</th>\n",
       "    </tr>\n",
       "  </thead>\n",
       "  <tbody>\n",
       "    <tr>\n",
       "      <th id=\"T_d2af2_level0_row0\" class=\"row_heading level0 row0\" >0</th>\n",
       "      <td id=\"T_d2af2_row0_col0\" class=\"data row0 col0\" >Boris has 100 apples and 50 oranges. Beck has 23 fewer apples than Boris and 30 more oranges. If Boris gives Beck 10 apples and...</td>\n",
       "      <td id=\"T_d2af2_row0_col1\" class=\"data row0 col1\" >3</td>\n",
       "      <td id=\"T_d2af2_row0_col2\" class=\"data row0 col2\" >Reasoning: Let's think step by step in order to produce the answer. Initially, Boris has 100 apples and Beck has 100 - 23 = 77...</td>\n",
       "      <td id=\"T_d2af2_row0_col3\" class=\"data row0 col3\" >3</td>\n",
       "      <td id=\"T_d2af2_row0_col4\" class=\"data row0 col4\" >✔️ [True]</td>\n",
       "    </tr>\n",
       "    <tr>\n",
       "      <th id=\"T_d2af2_level0_row1\" class=\"row_heading level0 row1\" >1</th>\n",
       "      <td id=\"T_d2af2_row1_col0\" class=\"data row1 col0\" >Lloyd earns $100 an hour on Math tutoring. He tutored 50 hours for the first week and 80 hours for the second week. How much...</td>\n",
       "      <td id=\"T_d2af2_row1_col1\" class=\"data row1 col1\" >13000</td>\n",
       "      <td id=\"T_d2af2_row1_col2\" class=\"data row1 col2\" >Reasoning: Let's think step by step in order to produce the answer. We know that Lloyd earns $100 an hour. For the first week, he...</td>\n",
       "      <td id=\"T_d2af2_row1_col3\" class=\"data row1 col3\" >13000</td>\n",
       "      <td id=\"T_d2af2_row1_col4\" class=\"data row1 col4\" >✔️ [True]</td>\n",
       "    </tr>\n",
       "    <tr>\n",
       "      <th id=\"T_d2af2_level0_row2\" class=\"row_heading level0 row2\" >2</th>\n",
       "      <td id=\"T_d2af2_row2_col0\" class=\"data row2 col0\" >The Llesis family drove and hiked 6.0 hours to their vacation spot. They drove an average of 50.0 miles per hour and hiked an average...</td>\n",
       "      <td id=\"T_d2af2_row2_col1\" class=\"data row2 col1\" >255</td>\n",
       "      <td id=\"T_d2af2_row2_col2\" class=\"data row2 col2\" >produce the answer. We know that the total travel time is 6.0 hours, and they spent 1.5 hours hiking. Therefore, they spent 6.0 - 1.5...</td>\n",
       "      <td id=\"T_d2af2_row2_col3\" class=\"data row2 col3\" >Question: The Llesis family drove and hiked 6.0 hours to their vacation spot. They drove an average of 50.0 miles per hour and hiked an...</td>\n",
       "      <td id=\"T_d2af2_row2_col4\" class=\"data row2 col4\" >False</td>\n",
       "    </tr>\n",
       "    <tr>\n",
       "      <th id=\"T_d2af2_level0_row3\" class=\"row_heading level0 row3\" >3</th>\n",
       "      <td id=\"T_d2af2_row3_col0\" class=\"data row3 col0\" >James enjoys swimming and needs to traverse a lake that is 20 miles wide. His swimming speed is 2 miles per hour. He covers 60%...</td>\n",
       "      <td id=\"T_d2af2_row3_col1\" class=\"data row3 col1\" >17</td>\n",
       "      <td id=\"T_d2af2_row3_col2\" class=\"data row3 col2\" >Reasoning: Let's think step by step in order to produce the answer. First, we need to determine the time James spent swimming the first 60%...</td>\n",
       "      <td id=\"T_d2af2_row3_col3\" class=\"data row3 col3\" >Reasoning: Let's think step by step in order to produce the answer. First, we need to determine the time James spent swimming the first 60%...</td>\n",
       "      <td id=\"T_d2af2_row3_col4\" class=\"data row3 col4\" >False</td>\n",
       "    </tr>\n",
       "    <tr>\n",
       "      <th id=\"T_d2af2_level0_row4\" class=\"row_heading level0 row4\" >4</th>\n",
       "      <td id=\"T_d2af2_row4_col0\" class=\"data row4 col0\" >Mark is preparing a quadruple batch of brownies for a large gathering. The standard recipe calls for 300 cups of flour and 100 cups of...</td>\n",
       "      <td id=\"T_d2af2_row4_col1\" class=\"data row4 col1\" >4</td>\n",
       "      <td id=\"T_d2af2_row4_col2\" class=\"data row4 col2\" >Reasoning: Let's think step by step in order to produce the answer. We need to determine the total amount of flour and milk required for...</td>\n",
       "      <td id=\"T_d2af2_row4_col3\" class=\"data row4 col3\" >Question: Mark is preparing a quadruple batch of brownies for a large gathering. The standard recipe calls for 300 cups of flour and 100 cups...</td>\n",
       "      <td id=\"T_d2af2_row4_col4\" class=\"data row4 col4\" >False</td>\n",
       "    </tr>\n",
       "    <tr>\n",
       "      <th id=\"T_d2af2_level0_row5\" class=\"row_heading level0 row5\" >5</th>\n",
       "      <td id=\"T_d2af2_row5_col0\" class=\"data row5 col0\" >Nathan has a bouncy ball that bounces to 2/3rds of its starting height with each bounce. If he drops it from the third-floor balcony in...</td>\n",
       "      <td id=\"T_d2af2_row5_col1\" class=\"data row5 col1\" >24</td>\n",
       "      <td id=\"T_d2af2_row5_col2\" class=\"data row5 col2\" >Reasoning: Let's think step by step in order to produce the answer. We know that the ball bounces to 2/3 of its starting height with...</td>\n",
       "      <td id=\"T_d2af2_row5_col3\" class=\"data row5 col3\" >Question: Nathan has a bouncy ball that bounces to 2/3rds of its starting height with each bounce. If he drops it from the third-floor balcony...</td>\n",
       "      <td id=\"T_d2af2_row5_col4\" class=\"data row5 col4\" >False</td>\n",
       "    </tr>\n",
       "    <tr>\n",
       "      <th id=\"T_d2af2_level0_row6\" class=\"row_heading level0 row6\" >6</th>\n",
       "      <td id=\"T_d2af2_row6_col0\" class=\"data row6 col0\" >Mr. Smith has two farms, Farm X and Farm Y. Initially, he has 55 goats in Farm X and 45 goats in Farm Y. One...</td>\n",
       "      <td id=\"T_d2af2_row6_col1\" class=\"data row6 col1\" >84</td>\n",
       "      <td id=\"T_d2af2_row6_col2\" class=\"data row6 col2\" >Reasoning: Let's think step by step in order to produce the answer. Initially, Mr. Smith has 55 goats in Farm X and 45 goats in...</td>\n",
       "      <td id=\"T_d2af2_row6_col3\" class=\"data row6 col3\" >Question: Mr. Smith has two farms, Farm X and Farm Y. Initially, he has 55 goats in Farm X and 45 goats in Farm Y....</td>\n",
       "      <td id=\"T_d2af2_row6_col4\" class=\"data row6 col4\" >False</td>\n",
       "    </tr>\n",
       "    <tr>\n",
       "      <th id=\"T_d2af2_level0_row7\" class=\"row_heading level0 row7\" >7</th>\n",
       "      <td id=\"T_d2af2_row7_col0\" class=\"data row7 col0\" >Tom purchases a new bedroom suite for $3000. He manages to sell his previous bedroom suite for $1000, which he uses to offset the cost...</td>\n",
       "      <td id=\"T_d2af2_row7_col1\" class=\"data row7 col1\" >200</td>\n",
       "      <td id=\"T_d2af2_row7_col2\" class=\"data row7 col2\" >Reasoning: Let's think step by step in order to produce the answer. First, we need to determine the remaining balance after Tom uses the $1000...</td>\n",
       "      <td id=\"T_d2af2_row7_col3\" class=\"data row7 col3\" >300</td>\n",
       "      <td id=\"T_d2af2_row7_col4\" class=\"data row7 col4\" >False</td>\n",
       "    </tr>\n",
       "    <tr>\n",
       "      <th id=\"T_d2af2_level0_row8\" class=\"row_heading level0 row8\" >8</th>\n",
       "      <td id=\"T_d2af2_row8_col0\" class=\"data row8 col0\" >Toby is reading a book that is 60 pages long. It averages 250 words a page. Toby can read at a rate of 350 words...</td>\n",
       "      <td id=\"T_d2af2_row8_col1\" class=\"data row8 col1\" >32.14</td>\n",
       "      <td id=\"T_d2af2_row8_col2\" class=\"data row8 col2\" >Reasoning: Let's think step by step in order to produce the answer. First, we need to determine how many words are in the entire book....</td>\n",
       "      <td id=\"T_d2af2_row8_col3\" class=\"data row8 col3\" >Question: Toby is reading a book that is 60 pages long. It averages 250 words a page. Toby can read at a rate of 350...</td>\n",
       "      <td id=\"T_d2af2_row8_col4\" class=\"data row8 col4\" >False</td>\n",
       "    </tr>\n",
       "    <tr>\n",
       "      <th id=\"T_d2af2_level0_row9\" class=\"row_heading level0 row9\" >9</th>\n",
       "      <td id=\"T_d2af2_row9_col0\" class=\"data row9 col0\" >Poppy is solving a 1500-piece jigsaw puzzle. She places a third of the pieces on the board, then her dad places a quarter of the...</td>\n",
       "      <td id=\"T_d2af2_row9_col1\" class=\"data row9 col1\" >750</td>\n",
       "      <td id=\"T_d2af2_row9_col2\" class=\"data row9 col2\" >Reasoning: Let's think step by step in order to produce the answer. We start with 1500 pieces. Poppy places a third of the pieces, which...</td>\n",
       "      <td id=\"T_d2af2_row9_col3\" class=\"data row9 col3\" >750</td>\n",
       "      <td id=\"T_d2af2_row9_col4\" class=\"data row9 col4\" >✔️ [True]</td>\n",
       "    </tr>\n",
       "    <tr>\n",
       "      <th id=\"T_d2af2_level0_row10\" class=\"row_heading level0 row10\" >10</th>\n",
       "      <td id=\"T_d2af2_row10_col0\" class=\"data row10 col0\" >Pat has a flower bed that is 150 feet long. Pat wants to fill her flower bed with plants. Pat's flowers grow 18 inches wide...</td>\n",
       "      <td id=\"T_d2af2_row10_col1\" class=\"data row10 col1\" >176</td>\n",
       "      <td id=\"T_d2af2_row10_col2\" class=\"data row10 col2\" >Reasoning: Let's think step by step in order to produce the answer. First, we need to convert the measurements to the same unit. Since the...</td>\n",
       "      <td id=\"T_d2af2_row10_col3\" class=\"data row10 col3\" >Question: Pat has a flower bed that is 150 feet long. Pat wants to fill her flower bed with plants. Pat's flowers grow 18 inches...</td>\n",
       "      <td id=\"T_d2af2_row10_col4\" class=\"data row10 col4\" >False</td>\n",
       "    </tr>\n",
       "    <tr>\n",
       "      <th id=\"T_d2af2_level0_row11\" class=\"row_heading level0 row11\" >11</th>\n",
       "      <td id=\"T_d2af2_row11_col0\" class=\"data row11 col0\" >Last month, Tasha made $120 from selling lemonade and mowing lawns. The first week, she mowed Kamala's lawn twice as many times as she did...</td>\n",
       "      <td id=\"T_d2af2_row11_col1\" class=\"data row11 col1\" >64</td>\n",
       "      <td id=\"T_d2af2_row11_col2\" class=\"data row11 col2\" >Reasoning: Let's think step by step in order to produce the answer. We know that Tasha made a total of $120 from selling lemonade and...</td>\n",
       "      <td id=\"T_d2af2_row11_col3\" class=\"data row11 col3\" >Question: Last month, Tasha made $120 from selling lemonade and mowing lawns. The first week, she mowed Kamala's lawn twice as many times as she...</td>\n",
       "      <td id=\"T_d2af2_row11_col4\" class=\"data row11 col4\" >False</td>\n",
       "    </tr>\n",
       "    <tr>\n",
       "      <th id=\"T_d2af2_level0_row12\" class=\"row_heading level0 row12\" >12</th>\n",
       "      <td id=\"T_d2af2_row12_col0\" class=\"data row12 col0\" >A local town is expanding and wants to construct several new homes over the next five years. In the first year, they will build 20...</td>\n",
       "      <td id=\"T_d2af2_row12_col1\" class=\"data row12 col1\" >120</td>\n",
       "      <td id=\"T_d2af2_row12_col2\" class=\"data row12 col2\" >produce the answer. We know that in the first year, the town will build 20 homes. In the second year, they will build twice as...</td>\n",
       "      <td id=\"T_d2af2_row12_col3\" class=\"data row12 col3\" >Question: A local town is expanding and wants to construct several new homes over the next five years. In the first year, they will build...</td>\n",
       "      <td id=\"T_d2af2_row12_col4\" class=\"data row12 col4\" >False</td>\n",
       "    </tr>\n",
       "    <tr>\n",
       "      <th id=\"T_d2af2_level0_row13\" class=\"row_heading level0 row13\" >13</th>\n",
       "      <td id=\"T_d2af2_row13_col0\" class=\"data row13 col0\" >The population of porcupines in a park is 50. The number of female porcupines is 3/5 of the total population. Each female porcupine gives birth...</td>\n",
       "      <td id=\"T_d2af2_row13_col1\" class=\"data row13 col1\" >1197</td>\n",
       "      <td id=\"T_d2af2_row13_col2\" class=\"data row13 col2\" >Reasoning: Let's think step by step in order to produce the answer. We start by calculating the number of female porcupines. Since the number of...</td>\n",
       "      <td id=\"T_d2af2_row13_col3\" class=\"data row13 col3\" >Question: The population of porcupines in a park is 50. The number of female porcupines is 3/5 of the total population. Each female porcupine gives...</td>\n",
       "      <td id=\"T_d2af2_row13_col4\" class=\"data row13 col4\" >False</td>\n",
       "    </tr>\n",
       "    <tr>\n",
       "      <th id=\"T_d2af2_level0_row14\" class=\"row_heading level0 row14\" >14</th>\n",
       "      <td id=\"T_d2af2_row14_col0\" class=\"data row14 col0\" >The rug is 5.0 feet wider than the chair. The couch is 2.0 feet longer than twice the width of the rug. If the chair...</td>\n",
       "      <td id=\"T_d2af2_row14_col1\" class=\"data row14 col1\" >18</td>\n",
       "      <td id=\"T_d2af2_row14_col2\" class=\"data row14 col2\" >Question: The rug is 5.0 feet wider than the chair. The couch is 2.0 feet longer than twice the width of the rug. If the...</td>\n",
       "      <td id=\"T_d2af2_row14_col3\" class=\"data row14 col3\" >Question: The rug is 5.0 feet wider than the chair. The couch is 2.0 feet longer than twice the width of the rug. If the...</td>\n",
       "      <td id=\"T_d2af2_row14_col4\" class=\"data row14 col4\" >False</td>\n",
       "    </tr>\n",
       "  </tbody>\n",
       "</table>\n"
      ],
      "text/plain": [
       "<pandas.io.formats.style.Styler at 0x7fdbac295d50>"
      ]
     },
     "metadata": {},
     "output_type": "display_data"
    },
    {
     "data": {
      "text/html": [
       "\n",
       "                <div style='\n",
       "                    text-align: center;\n",
       "                    font-size: 16px;\n",
       "                    font-weight: bold;\n",
       "                    color: #555;\n",
       "                    margin: 10px 0;'>\n",
       "                    ... 15 more rows not displayed ...\n",
       "                </div>\n",
       "                "
      ],
      "text/plain": [
       "<IPython.core.display.HTML object>"
      ]
     },
     "metadata": {},
     "output_type": "display_data"
    },
    {
     "data": {
      "text/plain": [
       "33.33"
      ]
     },
     "execution_count": 167,
     "metadata": {},
     "output_type": "execute_result"
    }
   ],
   "source": [
    "evaluator(optimized_mathbot, metric=validate_answer)"
   ]
  },
  {
   "cell_type": "markdown",
   "id": "2effdbae",
   "metadata": {},
   "source": [
    "## Results\n",
    "\n",
    "So finally the optimized prompt with few-shot examples has accuracy of 33% compared to 7% of baseline."
   ]
  }
 ],
 "metadata": {
  "kernelspec": {
   "display_name": "Python 3.10 (Miniconda)",
   "language": "python",
   "name": "python3mc"
  },
  "language_info": {
   "codemirror_mode": {
    "name": "ipython",
    "version": 3
   },
   "file_extension": ".py",
   "mimetype": "text/x-python",
   "name": "python",
   "nbconvert_exporter": "python",
   "pygments_lexer": "ipython3",
   "version": "3.10.10"
  }
 },
 "nbformat": 4,
 "nbformat_minor": 5
}
